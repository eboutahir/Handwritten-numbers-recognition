{
 "cells": [
  {
   "cell_type": "markdown",
   "metadata": {
    "_cell_guid": "ebbe6bba-c88c-0d49-502a-573d19476310",
    "_uuid": "5ef6011c806450cc8fffcaff93487d205feee82c"
   },
   "source": [
    "A Convolutional Neural Network for MNIST Classification.\n",
    "\n",
    "\n",
    "Note: this solution is loosely based on the official [tensorflow tutorial](https://www.tensorflow.org/tutorials/mnist/pros/)."
   ]
  },
  {
   "cell_type": "markdown",
   "metadata": {
    "_cell_guid": "6f552ccc-f472-107c-e20a-1c03a9362532",
    "_uuid": "513e15b2fdfcfabd54bcdd889570d75453946dc9"
   },
   "source": [
    "## Importing packages :"
   ]
  },
  {
   "cell_type": "code",
   "execution_count": 1,
   "metadata": {
    "_cell_guid": "15754c6a-4ee3-0ac0-3d01-9ec4831370e3",
    "_uuid": "451e41f91c3d33232928c4627f066c2759827a68"
   },
   "outputs": [
    {
     "name": "stderr",
     "output_type": "stream",
     "text": [
      "C:\\Users\\bouta\\Anaconda3\\lib\\site-packages\\h5py\\__init__.py:36: FutureWarning: Conversion of the second argument of issubdtype from `float` to `np.floating` is deprecated. In future, it will be treated as `np.float64 == np.dtype(float).type`.\n",
      "  from ._conv import register_converters as _register_converters\n"
     ]
    }
   ],
   "source": [
    "%matplotlib inline\n",
    "import numpy as np\n",
    "from numpy import array\n",
    "import pandas as pd\n",
    "import tensorflow as tf\n",
    "import matplotlib.pyplot as plt\n",
    "from sklearn.model_selection import ShuffleSplit\n",
    "from sklearn.preprocessing import StandardScaler, LabelEncoder, OneHotEncoder"
   ]
  },
  {
   "cell_type": "code",
   "execution_count": 2,
   "metadata": {
    "_cell_guid": "50083ab2-7752-56fb-54e8-249a4017bd29",
    "_uuid": "48596fe15966703bf6b3053ddbc745edf9520f93"
   },
   "outputs": [],
   "source": [
    "LABELS = 10 # Number of different types of labels (1-10)\n",
    "WIDTH = 28 # width / height of the image\n",
    "CHANNELS = 1 # Number of colors in the image (greyscale)\n",
    "\n",
    "VALID = 1000 # Validation data size\n",
    "\n",
    "STEPS = 8000# Number of steps to run\n",
    "BATCH = 32 # Stochastic Gradient Descent batch size\n",
    "PATCH = 5 # Convolutional Kernel size\n",
    "DEPTH = 32 #32 # Convolutional Kernel depth size == Number of Convolutional Kernels\n",
    "HIDDEN = 1024 #1024 # Number of hidden neurons in the fully connected layer\n",
    "\n",
    "LR = 0.0013 # Learning rate"
   ]
  },
  {
   "cell_type": "markdown",
   "metadata": {
    "_cell_guid": "4572603b-cc72-031c-f710-6196172efea4",
    "_uuid": "d46b06d0ca90e678378888233b9081c79411e4eb"
   },
   "source": [
    "## Importing Data"
   ]
  },
  {
   "cell_type": "markdown",
   "metadata": {
    "_cell_guid": "b734dc0f-50d6-37c7-7906-409d5b49f3cb",
    "_uuid": "05ffe4d2f598b72dda2230ed591f0e0d595aabd5"
   },
   "source": [
    "The dataset : https://www.kaggle.com/c/digit-recognizer"
   ]
  },
  {
   "cell_type": "code",
   "execution_count": 3,
   "metadata": {
    "_cell_guid": "4cd92946-fe19-5590-7946-1f43e2a68e48",
    "_uuid": "d151db431bd891d91aa25d0401ee8fb06b0ef866"
   },
   "outputs": [
    {
     "name": "stdout",
     "output_type": "stream",
     "text": [
      "train data shape = (41000, 28, 28, 1) = (TRAIN, WIDTH, WIDTH, CHANNELS)\n",
      "labels shape = (42000, 10) = (TRAIN, LABELS)\n"
     ]
    }
   ],
   "source": [
    "data = pd.read_csv('train.csv') # Read csv file in pandas dataframe\n",
    "labels = np.array(data.pop('label')) # Remove the labels as a numpy array from the dataframe\n",
    "labels = LabelEncoder().fit_transform(labels)[:, None]\n",
    "labels = OneHotEncoder().fit_transform(labels).todense()\n",
    "data = StandardScaler().fit_transform(np.float32(data.values)) # Convert the dataframe to a numpy array\n",
    "data = data.reshape(-1, WIDTH, WIDTH, CHANNELS) # Reshape the data into 42000 2d images\n",
    "train_data, valid_data = data[:-VALID], data[-VALID:]\n",
    "train_labels, valid_labels = labels[:-VALID], labels[-VALID:]\n",
    "\n",
    "print('train data shape = ' + str(train_data.shape) + ' = (TRAIN, WIDTH, WIDTH, CHANNELS)')\n",
    "print('labels shape = ' + str(labels.shape) + ' = (TRAIN, LABELS)')"
   ]
  },
  {
   "cell_type": "markdown",
   "metadata": {
    "_cell_guid": "616030e9-9c6e-c369-c6f2-c19cd76a542b",
    "_uuid": "37be758616317aa9f12c77ad7373b25b1b8ddae6"
   },
   "source": [
    "## Model\n",
    "\n",
    "Let's now build a network with two convolutional layers, followed by one fully connected layer.\n"
   ]
  },
  {
   "cell_type": "code",
   "execution_count": 4,
   "metadata": {
    "_cell_guid": "f7b2abd6-d89d-1149-751f-3697f9afb52c",
    "_uuid": "fc9b8e6e73778e26ed95f693e34cf7f02fcffeda"
   },
   "outputs": [],
   "source": [
    "tf_data = tf.placeholder(tf.float32, shape=(None, WIDTH, WIDTH, CHANNELS))\n",
    "tf_labels = tf.placeholder(tf.float32, shape=(None, LABELS))"
   ]
  },
  {
   "cell_type": "code",
   "execution_count": 5,
   "metadata": {
    "_cell_guid": "8c23848b-e5df-548c-698a-d30313129b23",
    "_uuid": "dec7f8b46959c2d8ba10f01e0088178f1d8c1b8f"
   },
   "outputs": [],
   "source": [
    "w1 = tf.Variable(tf.truncated_normal([PATCH, PATCH, CHANNELS, DEPTH], stddev=0.1))\n",
    "b1 = tf.Variable(tf.zeros([DEPTH]))\n",
    "w2 = tf.Variable(tf.truncated_normal([PATCH, PATCH, DEPTH, 2*DEPTH], stddev=0.1))\n",
    "b2 = tf.Variable(tf.constant(1.0, shape=[2*DEPTH]))\n",
    "w3 = tf.Variable(tf.truncated_normal([WIDTH // 4 * WIDTH // 4 * 2*DEPTH, HIDDEN], stddev=0.1))\n",
    "b3 = tf.Variable(tf.constant(1.0, shape=[HIDDEN]))\n",
    "w4 = tf.Variable(tf.truncated_normal([HIDDEN, LABELS], stddev=0.1))\n",
    "b4 = tf.Variable(tf.constant(1.0, shape=[LABELS]))\n",
    "\n",
    "def logits(data):\n",
    "    # Convolutional layer 1\n",
    "    x = tf.nn.conv2d(data, w1, [1, 1, 1, 1], padding='SAME')\n",
    "    x = tf.nn.max_pool(x, [1, 2, 2, 1], [1, 2, 2, 1], padding='SAME')\n",
    "    x = tf.nn.relu(x + b1)\n",
    "    # Convolutional layer 2\n",
    "    x = tf.nn.conv2d(x, w2, [1, 1, 1, 1], padding='SAME')\n",
    "    x = tf.nn.max_pool(x, [1, 2, 2, 1], [1, 2, 2, 1], padding='SAME')\n",
    "    x = tf.nn.relu(x + b2)\n",
    "    # Fully connected layer\n",
    "    x = tf.reshape(x, (-1, WIDTH // 4 * WIDTH // 4 * 2*DEPTH))\n",
    "    x = tf.nn.relu(tf.matmul(x, w3) + b3)\n",
    "    return tf.matmul(x, w4) + b4\n",
    "\n",
    "# Prediction:\n",
    "tf_pred = tf.nn.softmax(logits(tf_data))"
   ]
  },
  {
   "cell_type": "code",
   "execution_count": 6,
   "metadata": {
    "_cell_guid": "429d6634-ba23-9644-84f0-9173627d1f96",
    "_uuid": "2cdb2d7339e2e36e7b89d20bfc73c4a49971cf96"
   },
   "outputs": [
    {
     "name": "stdout",
     "output_type": "stream",
     "text": [
      "WARNING:tensorflow:From <ipython-input-6-f464c858e72f>:2: softmax_cross_entropy_with_logits (from tensorflow.python.ops.nn_ops) is deprecated and will be removed in a future version.\n",
      "Instructions for updating:\n",
      "\n",
      "Future major versions of TensorFlow will allow gradients to flow\n",
      "into the labels input on backprop by default.\n",
      "\n",
      "See tf.nn.softmax_cross_entropy_with_logits_v2.\n",
      "\n"
     ]
    }
   ],
   "source": [
    "tf_loss = tf.reduce_mean(tf.nn.softmax_cross_entropy_with_logits(logits=logits(tf_data), \n",
    "                                                                 labels=tf_labels))\n",
    "tf_acc = 100*tf.reduce_mean(tf.to_float(tf.equal(tf.argmax(tf_pred, 1), tf.argmax(tf_labels, 1))))\n",
    "\n",
    "#tf_opt = tf.train.GradientDescentOptimizer(LR)\n",
    "#tf_opt = tf.train.AdamOptimizer(LR)\n",
    "tf_opt = tf.train.RMSPropOptimizer(LR)\n",
    "tf_step = tf_opt.minimize(tf_loss)"
   ]
  },
  {
   "cell_type": "markdown",
   "metadata": {
    "_cell_guid": "6dde9903-2b67-6d57-0200-3a2041a786b6",
    "_uuid": "f607dc156ed3e2e1c8687bad2b211bbcb0417ee8"
   },
   "source": [
    "## Train"
   ]
  },
  {
   "cell_type": "markdown",
   "metadata": {
    "_cell_guid": "3a183269-2293-7a6b-0cc9-ba51d3fc9428",
    "_uuid": "aa54f34c0ccd1d280c07ba3c5d22b6a85291dd72"
   },
   "source": [
    "open the session"
   ]
  },
  {
   "cell_type": "code",
   "execution_count": 7,
   "metadata": {
    "_cell_guid": "555fd8d0-7716-7cc8-17c3-7427cb9276b6",
    "_uuid": "f0d6a2dce261c7e8296e7aa913c831b10516b770"
   },
   "outputs": [],
   "source": [
    "init = tf.global_variables_initializer()\n",
    "session = tf.Session()\n",
    "session.run(init)"
   ]
  },
  {
   "cell_type": "code",
   "execution_count": 8,
   "metadata": {},
   "outputs": [
    {
     "data": {
      "text/plain": [
       "(28, 28, 1)"
      ]
     },
     "execution_count": 8,
     "metadata": {},
     "output_type": "execute_result"
    }
   ],
   "source": [
    "train_data[4].shape"
   ]
  },
  {
   "cell_type": "markdown",
   "metadata": {
    "_cell_guid": "9f83f5cc-dd67-1e27-d46f-02a0d6b08fce",
    "_uuid": "4060d8f61b32d8f598436756144a25868aeb082e"
   },
   "source": [
    "Run the session\n",
    "\n",
    "\n",
    "it will take a lot of time Depending on the capabilities of your computer"
   ]
  },
  {
   "cell_type": "code",
   "execution_count": 9,
   "metadata": {
    "_cell_guid": "bf9c6a09-58e8-ff57-9002-ebfa8ca41175",
    "_uuid": "57d4f52273789572f27059c863a6547c8d651a80"
   },
   "outputs": [
    {
     "name": "stderr",
     "output_type": "stream",
     "text": [
      "C:\\Users\\bouta\\Anaconda3\\lib\\site-packages\\sklearn\\model_selection\\_split.py:1639: FutureWarning: From version 0.21, test_size will always complement train_size unless both are specified.\n",
      "  FutureWarning)\n"
     ]
    },
    {
     "name": "stdout",
     "output_type": "stream",
     "text": [
      "Step 500 \t Valid. Acc. = 95.500000 \n",
      "\n",
      "Step 1000 \t Valid. Acc. = 94.900002 \n",
      "\n",
      "Step 1500 \t Valid. Acc. = 95.800003 \n",
      "\n",
      "Step 2000 \t Valid. Acc. = 96.900002 \n",
      "\n",
      "Step 2500 \t Valid. Acc. = 97.699997 \n",
      "\n",
      "Step 3000 \t Valid. Acc. = 97.399994 \n",
      "\n",
      "Step 3500 \t Valid. Acc. = 97.299995 \n",
      "\n",
      "Step 4000 \t Valid. Acc. = 97.599998 \n",
      "\n",
      "Step 4500 \t Valid. Acc. = 97.799995 \n",
      "\n",
      "Step 5000 \t Valid. Acc. = 97.899994 \n",
      "\n",
      "Step 5500 \t Valid. Acc. = 98.199997 \n",
      "\n",
      "Step 6000 \t Valid. Acc. = 96.699997 \n",
      "\n",
      "Step 6500 \t Valid. Acc. = 97.899994 \n",
      "\n",
      "Step 7000 \t Valid. Acc. = 98.099998 \n",
      "\n",
      "Step 7500 \t Valid. Acc. = 98.299995 \n",
      "\n",
      "Step 8000 \t Valid. Acc. = 98.400002 \n",
      "\n"
     ]
    }
   ],
   "source": [
    "ss = ShuffleSplit(n_splits=STEPS, train_size=BATCH)\n",
    "ss.get_n_splits(train_data, train_labels)\n",
    "history = [(0, np.nan, 10)] # Initial Error Measures\n",
    "for step, (idx, _) in enumerate(ss.split(train_data,train_labels), start=1):\n",
    "    fd = {tf_data:train_data[idx], tf_labels:train_labels[idx]}\n",
    "    session.run(tf_step, feed_dict=fd)\n",
    "    if step%500 == 0:\n",
    "        fd = {tf_data:valid_data, tf_labels:valid_labels}\n",
    "        valid_loss, valid_accuracy = session.run([tf_loss, tf_acc], feed_dict=fd)\n",
    "        history.append((step, valid_loss, valid_accuracy))\n",
    "        print('Step %i \\t Valid. Acc. = %f \\n'%(step, valid_accuracy))"
   ]
  },
  {
   "cell_type": "markdown",
   "metadata": {
    "_cell_guid": "ec8208b4-6a7d-f6f1-d23b-7164a2b455ed",
    "_uuid": "768a5df02d47e40fa04813d1986097e16dfdbac9"
   },
   "source": [
    "Visualize the training history:"
   ]
  },
  {
   "cell_type": "code",
   "execution_count": 10,
   "metadata": {
    "_cell_guid": "31a957e0-5883-9f44-53c4-255777b16ebe",
    "_uuid": "ac1aa88da763cb4c9c44d7c5e9d1dc0309288b7a"
   },
   "outputs": [
    {
     "name": "stderr",
     "output_type": "stream",
     "text": [
      "C:\\Users\\bouta\\Anaconda3\\lib\\site-packages\\matplotlib\\cbook\\deprecation.py:107: MatplotlibDeprecationWarning: Adding an axes using the same arguments as a previous axes currently reuses the earlier instance.  In a future version, a new instance will always be created and returned.  Meanwhile, this warning can be suppressed, and the future behavior ensured, by passing a unique label to each axes instance.\n",
      "  warnings.warn(message, mplDeprecation, stacklevel=1)\n"
     ]
    },
    {
     "data": {
      "image/png": "[encoded data removed]",
      "text/plain": [
       "<Figure size 432x288 with 2 Axes>"
      ]
     },
     "metadata": {},
     "output_type": "display_data"
    }
   ],
   "source": [
    "steps, loss, acc = zip(*history)\n",
    "\n",
    "fig = plt.figure()\n",
    "plt.title('Validation Loss / Accuracy')\n",
    "ax_loss = fig.add_subplot(111)\n",
    "ax_acc = ax_loss.twinx()\n",
    "plt.xlabel('Training Steps')\n",
    "plt.xlim(0, max(steps))\n",
    "\n",
    "ax_loss.plot(steps, loss, '-o', color='C0')\n",
    "ax_loss.set_ylabel('Log Loss', color='C0');\n",
    "ax_loss.tick_params('y', colors='C0')\n",
    "ax_loss.set_ylim(0.01, 0.5)\n",
    "\n",
    "ax_acc.plot(steps, acc, '-o', color='C1')\n",
    "ax_acc.set_ylabel('Accuracy [%]', color='C1');\n",
    "ax_acc.tick_params('y', colors='C1')\n",
    "ax_acc.set_ylim(1,100)\n",
    "\n",
    "plt.show()"
   ]
  },
  {
   "cell_type": "markdown",
   "metadata": {
    "_cell_guid": "769077b0-eff8-ceee-723a-0cbfe1fa87e0",
    "_uuid": "1c00809f5384d8cacd37de0e997b62cb69a36582"
   },
   "source": [
    "## Results"
   ]
  },
  {
   "cell_type": "code",
   "execution_count": 11,
   "metadata": {
    "_cell_guid": "35244d22-1ada-54e5-2a83-92debc3ede2f",
    "_uuid": "f60cca37b5334ae24945a1a971d9fa4ef6ea611c"
   },
   "outputs": [
    {
     "name": "stdout",
     "output_type": "stream",
     "text": [
      "<class 'pandas.core.frame.DataFrame'>\n",
      "RangeIndex: 28000 entries, 0 to 27999\n",
      "Columns: 784 entries, pixel0 to pixel783\n",
      "dtypes: int64(784)\n",
      "memory usage: 167.5 MB\n"
     ]
    }
   ],
   "source": [
    "test = pd.read_csv('test.csv') # Read csv file in pandas dataframe\n",
    "test.info()\n",
    "test_data = StandardScaler().fit_transform(np.float32(test.values)) # Convert the dataframe to a numpy array\n",
    "test_data = test_data.reshape(-1, WIDTH, WIDTH, CHANNELS) # Reshape the data into 42000 2d images"
   ]
  },
  {
   "cell_type": "code",
   "execution_count": 15,
   "metadata": {},
   "outputs": [
    {
     "name": "stdout",
     "output_type": "stream",
     "text": [
      "(28000, 28, 28, 1)\n"
     ]
    }
   ],
   "source": [
    "print (test_data.shape)\n",
    "test_labels = []"
   ]
  },
  {
   "cell_type": "markdown",
   "metadata": {
    "_cell_guid": "f3d8bc95-1efe-8429-8eda-b7fcc78052be",
    "_uuid": "6b5cd18ea18e4e6ac29b879beea7fdabd01f0a30"
   },
   "source": [
    "Make a prediction about the test labels"
   ]
  },
  {
   "cell_type": "code",
   "execution_count": 16,
   "metadata": {
    "_cell_guid": "0faca4c6-f71e-60be-ffca-66441fed07ec",
    "_uuid": "284955ca8ffc838eecdd554824205c0432c6a5e3"
   },
   "outputs": [
    {
     "name": "stderr",
     "output_type": "stream",
     "text": [
      "C:\\Users\\bouta\\Anaconda3\\lib\\site-packages\\sklearn\\model_selection\\_split.py:1639: FutureWarning: From version 0.21, test_size will always complement train_size unless both are specified.\n",
      "  FutureWarning)\n"
     ]
    }
   ],
   "source": [
    "ss = ShuffleSplit(n_splits=28000, train_size=BATCH)\n",
    "ss.get_n_splits(test_data)\n",
    "for (idx, _) in enumerate(ss.split(test_data), start=0):\n",
    "    temp_test_data = array(test_data[idx]).reshape(1, 28, 28, 1)\n",
    "    fd = {tf_data: temp_test_data}\n",
    "    test_pred = session.run(tf_pred, feed_dict=fd)\n",
    "    temp = np.argmax(test_pred, axis=1)\n",
    "    test_labels.append(temp)\n"
   ]
  },
  {
   "cell_type": "code",
   "execution_count": 20,
   "metadata": {},
   "outputs": [
    {
     "name": "stdout",
     "output_type": "stream",
     "text": [
      "28000\n"
     ]
    }
   ],
   "source": [
    "print (len(test_labels))"
   ]
  },
  {
   "cell_type": "code",
   "execution_count": 22,
   "metadata": {
    "collapsed": true
   },
   "outputs": [],
   "source": [
    "\n",
    "#test_labels = np.array(test_labels)\n",
    "#test labels = np.delete(test_labels,(0),axis=0)\n",
    "#test_labels.shape[0]"
   ]
  },
  {
   "cell_type": "markdown",
   "metadata": {
    "_cell_guid": "bed7ce11-5a18-56d7-f526-8ebc103b0ce7",
    "_uuid": "bd559e365485e7268e1153c8f67e4dabab72e351"
   },
   "source": [
    "Plot an example:\n",
    "\n",
    "you can change the value of 'k' to see other examples "
   ]
  },
  {
   "cell_type": "code",
   "execution_count": 35,
   "metadata": {
    "_cell_guid": "3d9691dd-1bd9-b6d5-9920-c619fd7443fc",
    "_uuid": "e2485853809d42ecb64f824f6d84f8777e98a387"
   },
   "outputs": [
    {
     "name": "stdout",
     "output_type": "stream",
     "text": [
      "Label Prediction: 8\n"
     ]
    },
    {
     "data": {
      "image/png": "[encoded data removed]",
      "text/plain": [
       "<Figure size 144x144 with 1 Axes>"
      ]
     },
     "metadata": {},
     "output_type": "display_data"
    }
   ],
   "source": [
    "k = 54 # Try different image indices k\n",
    "print(\"Label Prediction: %i\"%test_labels[k])\n",
    "fig = plt.figure(figsize=(2,2)); plt.axis('off')\n",
    "plt.imshow(test_data[k,:,:,0]); plt.show()"
   ]
  },
  {
   "cell_type": "code",
   "execution_count": 25,
   "metadata": {},
   "outputs": [],
   "source": [
    "for i in range(len(test_labels)):\n",
    "    test_labels[i] = int(test_labels[i])"
   ]
  },
  {
   "cell_type": "markdown",
   "metadata": {
    "_cell_guid": "83654d47-11bc-acc7-4761-d443efd44474",
    "_uuid": "5db219e39f37b20646321c2bf205d0000fee463e"
   },
   "source": [
    "## Submission"
   ]
  },
  {
   "cell_type": "code",
   "execution_count": 36,
   "metadata": {
    "_cell_guid": "3db12c10-bb63-22b8-5658-9f6bd740cc6c",
    "_uuid": "cb1e81910b75e9e0b362f312272ab61b1d2305a9"
   },
   "outputs": [
    {
     "data": {
      "text/html": [
       "<div>\n",
       "<style scoped>\n",
       "    .dataframe tbody tr th:only-of-type {\n",
       "        vertical-align: middle;\n",
       "    }\n",
       "\n",
       "    .dataframe tbody tr th {\n",
       "        vertical-align: top;\n",
       "    }\n",
       "\n",
       "    .dataframe thead th {\n",
       "        text-align: right;\n",
       "    }\n",
       "</style>\n",
       "<table border=\"1\" class=\"dataframe\">\n",
       "  <thead>\n",
       "    <tr style=\"text-align: right;\">\n",
       "      <th></th>\n",
       "      <th>ImageId</th>\n",
       "      <th>Label</th>\n",
       "    </tr>\n",
       "  </thead>\n",
       "  <tbody>\n",
       "    <tr>\n",
       "      <th>1</th>\n",
       "      <td>0</td>\n",
       "      <td>2</td>\n",
       "    </tr>\n",
       "    <tr>\n",
       "      <th>2</th>\n",
       "      <td>1</td>\n",
       "      <td>0</td>\n",
       "    </tr>\n",
       "    <tr>\n",
       "      <th>3</th>\n",
       "      <td>2</td>\n",
       "      <td>9</td>\n",
       "    </tr>\n",
       "    <tr>\n",
       "      <th>4</th>\n",
       "      <td>3</td>\n",
       "      <td>9</td>\n",
       "    </tr>\n",
       "    <tr>\n",
       "      <th>5</th>\n",
       "      <td>4</td>\n",
       "      <td>3</td>\n",
       "    </tr>\n",
       "    <tr>\n",
       "      <th>6</th>\n",
       "      <td>5</td>\n",
       "      <td>7</td>\n",
       "    </tr>\n",
       "    <tr>\n",
       "      <th>7</th>\n",
       "      <td>6</td>\n",
       "      <td>0</td>\n",
       "    </tr>\n",
       "    <tr>\n",
       "      <th>8</th>\n",
       "      <td>7</td>\n",
       "      <td>3</td>\n",
       "    </tr>\n",
       "    <tr>\n",
       "      <th>9</th>\n",
       "      <td>8</td>\n",
       "      <td>0</td>\n",
       "    </tr>\n",
       "    <tr>\n",
       "      <th>10</th>\n",
       "      <td>9</td>\n",
       "      <td>3</td>\n",
       "    </tr>\n",
       "  </tbody>\n",
       "</table>\n",
       "</div>"
      ],
      "text/plain": [
       "    ImageId  Label\n",
       "1         0      2\n",
       "2         1      0\n",
       "3         2      9\n",
       "4         3      9\n",
       "5         4      3\n",
       "6         5      7\n",
       "7         6      0\n",
       "8         7      3\n",
       "9         8      0\n",
       "10        9      3"
      ]
     },
     "execution_count": 36,
     "metadata": {},
     "output_type": "execute_result"
    }
   ],
   "source": [
    "submission = pd.DataFrame(data={'ImageId':(np.arange(len(test_labels))), 'Label':test_labels})\n",
    "submission.index += 1\n",
    "submission.to_csv('submission4.csv', index=False)\n",
    "submission.head(10)"
   ]
  },
  {
   "cell_type": "code",
   "execution_count": 27,
   "metadata": {},
   "outputs": [],
   "source": [
    "temp = pd.read_csv('submission4.csv')\n",
    "temp['ImageId'] +=1\n",
    "temp.head()\n",
    "temp.to_csv('submission4.csv', index=False)"
   ]
  },
  {
   "cell_type": "markdown",
   "metadata": {
    "_cell_guid": "982a581a-ef18-fd33-848c-e53afcdde40d",
    "_uuid": "a24bf3a48baf9b3b6ab0bf80bce660851a253011"
   },
   "source": [
    "## Close Session\n",
    "\n",
    "(note: once the session is closed, the training cell cannot be run again...)"
   ]
  },
  {
   "cell_type": "code",
   "execution_count": null,
   "metadata": {
    "collapsed": true
   },
   "outputs": [],
   "source": []
  }
 ],
 "metadata": {
  "_change_revision": 0,
  "_is_fork": false,
  "kernelspec": {
   "display_name": "Python 3",
   "language": "python",
   "name": "python3"
  },
  "language_info": {
   "codemirror_mode": {
    "name": "ipython",
    "version": 3
   },
   "file_extension": ".py",
   "mimetype": "text/x-python",
   "name": "python",
   "nbconvert_exporter": "python",
   "pygments_lexer": "ipython3",
   "version": "3.5.5"
  },
  "widgets": {
   "state": {},
   "version": "1.1.2"
  }
 },
 "nbformat": 4,
 "nbformat_minor": 1
}
